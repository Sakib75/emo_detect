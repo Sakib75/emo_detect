{
 "cells": [
  {
   "cell_type": "markdown",
   "metadata": {},
   "source": [
    "## Import necessary libraries"
   ]
  },
  {
   "cell_type": "code",
   "execution_count": 75,
   "metadata": {},
   "outputs": [],
   "source": [
    "import librosa\n",
    "import soundfile\n",
    "import os, glob, pickle\n",
    "import numpy as np\n",
    "from sklearn.model_selection import train_test_split\n",
    "from sklearn.neural_network import MLPClassifier\n",
    "from sklearn.metrics import accuracy_score"
   ]
  },
  {
   "cell_type": "markdown",
   "metadata": {},
   "source": [
    "## Extract features (mfcc, chroma, mel) from a sound file"
   ]
  },
  {
   "cell_type": "code",
   "execution_count": 90,
   "metadata": {},
   "outputs": [
    {
     "name": "stdout",
     "output_type": "stream",
     "text": [
      "44100\n"
     ]
    },
    {
     "name": "stderr",
     "output_type": "stream",
     "text": [
      "c:\\users\\user\\appdata\\local\\programs\\python\\python38\\lib\\site-packages\\librosa\\util\\decorators.py:88: UserWarning: n_fft=2048 is too small for input signal of length=2\n",
      "  return f(*args, **kwargs)\n"
     ]
    },
    {
     "name": "stdout",
     "output_type": "stream",
     "text": [
      "[[-1.0503542e+03 -1.0503542e+03 -1.0503542e+03 ... -1.0503542e+03\n",
      "  -1.0240986e+03 -1.0032705e+03]\n",
      " [ 0.0000000e+00  0.0000000e+00  0.0000000e+00 ...  0.0000000e+00\n",
      "   1.1113029e+01  8.0723476e+00]\n",
      " [ 0.0000000e+00  0.0000000e+00  0.0000000e+00 ...  0.0000000e+00\n",
      "  -6.5560241e+00 -5.5622382e+00]\n",
      " ...\n",
      " [ 0.0000000e+00  0.0000000e+00  0.0000000e+00 ...  0.0000000e+00\n",
      "  -3.4331117e-02 -4.6779279e-02]\n",
      " [ 0.0000000e+00  0.0000000e+00  0.0000000e+00 ...  0.0000000e+00\n",
      "  -7.2962567e-02 -4.8579611e-02]\n",
      " [ 0.0000000e+00  0.0000000e+00  0.0000000e+00 ...  0.0000000e+00\n",
      "  -7.0928596e-03 -3.6408670e-02]]\n"
     ]
    },
    {
     "ename": "ValueError",
     "evalue": "all the input arrays must have same number of dimensions, but the array at index 0 has 1 dimension(s) and the array at index 1 has 2 dimension(s)",
     "output_type": "error",
     "traceback": [
      "\u001b[1;31m---------------------------------------------------------------------------\u001b[0m",
      "\u001b[1;31mValueError\u001b[0m                                Traceback (most recent call last)",
      "\u001b[1;32m<ipython-input-90-4f82baa6966a>\u001b[0m in \u001b[0;36m<module>\u001b[1;34m\u001b[0m\n\u001b[0;32m     20\u001b[0m \u001b[1;33m\u001b[0m\u001b[0m\n\u001b[0;32m     21\u001b[0m \u001b[1;31m# extract_feature(\"./RAVDESS/Actor_01/03-01-03-01-01-01-01.wav\", mfcc=True, chroma=True, mel=True)\u001b[0m\u001b[1;33m\u001b[0m\u001b[1;33m\u001b[0m\u001b[1;33m\u001b[0m\u001b[0m\n\u001b[1;32m---> 22\u001b[1;33m \u001b[0mextract_feature\u001b[0m\u001b[1;33m(\u001b[0m\u001b[1;34m\"./SUBESCO/F_01_OISHI_S_10_ANGRY_1.wav\"\u001b[0m\u001b[1;33m,\u001b[0m \u001b[0mmfcc\u001b[0m\u001b[1;33m=\u001b[0m\u001b[1;32mTrue\u001b[0m\u001b[1;33m,\u001b[0m \u001b[0mchroma\u001b[0m\u001b[1;33m=\u001b[0m\u001b[1;32mFalse\u001b[0m\u001b[1;33m,\u001b[0m \u001b[0mmel\u001b[0m\u001b[1;33m=\u001b[0m\u001b[1;32mFalse\u001b[0m\u001b[1;33m)\u001b[0m\u001b[1;33m\u001b[0m\u001b[1;33m\u001b[0m\u001b[0m\n\u001b[0m",
      "\u001b[1;32m<ipython-input-90-4f82baa6966a>\u001b[0m in \u001b[0;36mextract_feature\u001b[1;34m(file_name, mfcc, chroma, mel)\u001b[0m\n\u001b[0;32m     10\u001b[0m             \u001b[0mmfccs\u001b[0m\u001b[1;33m=\u001b[0m\u001b[0mnp\u001b[0m\u001b[1;33m.\u001b[0m\u001b[0mmean\u001b[0m\u001b[1;33m(\u001b[0m\u001b[0mlibrosa\u001b[0m\u001b[1;33m.\u001b[0m\u001b[0mfeature\u001b[0m\u001b[1;33m.\u001b[0m\u001b[0mmfcc\u001b[0m\u001b[1;33m(\u001b[0m\u001b[0my\u001b[0m\u001b[1;33m=\u001b[0m\u001b[0mX\u001b[0m\u001b[1;33m,\u001b[0m \u001b[0msr\u001b[0m\u001b[1;33m=\u001b[0m\u001b[0msample_rate\u001b[0m\u001b[1;33m,\u001b[0m \u001b[0mn_mfcc\u001b[0m\u001b[1;33m=\u001b[0m\u001b[1;36m40\u001b[0m\u001b[1;33m)\u001b[0m\u001b[1;33m.\u001b[0m\u001b[0mT\u001b[0m\u001b[1;33m,\u001b[0m \u001b[0maxis\u001b[0m\u001b[1;33m=\u001b[0m\u001b[1;36m0\u001b[0m\u001b[1;33m)\u001b[0m\u001b[1;33m\u001b[0m\u001b[1;33m\u001b[0m\u001b[0m\n\u001b[0;32m     11\u001b[0m             \u001b[0mprint\u001b[0m\u001b[1;33m(\u001b[0m\u001b[0mmfccs\u001b[0m\u001b[1;33m)\u001b[0m\u001b[1;33m\u001b[0m\u001b[1;33m\u001b[0m\u001b[0m\n\u001b[1;32m---> 12\u001b[1;33m             \u001b[0mresult\u001b[0m\u001b[1;33m=\u001b[0m\u001b[0mnp\u001b[0m\u001b[1;33m.\u001b[0m\u001b[0mhstack\u001b[0m\u001b[1;33m(\u001b[0m\u001b[1;33m(\u001b[0m\u001b[0mresult\u001b[0m\u001b[1;33m,\u001b[0m \u001b[0mmfccs\u001b[0m\u001b[1;33m)\u001b[0m\u001b[1;33m)\u001b[0m\u001b[1;33m\u001b[0m\u001b[1;33m\u001b[0m\u001b[0m\n\u001b[0m\u001b[0;32m     13\u001b[0m         \u001b[1;32mif\u001b[0m \u001b[0mchroma\u001b[0m\u001b[1;33m:\u001b[0m\u001b[1;33m\u001b[0m\u001b[1;33m\u001b[0m\u001b[0m\n\u001b[0;32m     14\u001b[0m             \u001b[0mchroma\u001b[0m\u001b[1;33m=\u001b[0m\u001b[0mnp\u001b[0m\u001b[1;33m.\u001b[0m\u001b[0mmean\u001b[0m\u001b[1;33m(\u001b[0m\u001b[0mlibrosa\u001b[0m\u001b[1;33m.\u001b[0m\u001b[0mfeature\u001b[0m\u001b[1;33m.\u001b[0m\u001b[0mchroma_stft\u001b[0m\u001b[1;33m(\u001b[0m\u001b[0mS\u001b[0m\u001b[1;33m=\u001b[0m\u001b[0mstft\u001b[0m\u001b[1;33m,\u001b[0m \u001b[0msr\u001b[0m\u001b[1;33m=\u001b[0m\u001b[0msample_rate\u001b[0m\u001b[1;33m)\u001b[0m\u001b[1;33m.\u001b[0m\u001b[0mT\u001b[0m\u001b[1;33m,\u001b[0m\u001b[0maxis\u001b[0m\u001b[1;33m=\u001b[0m\u001b[1;36m0\u001b[0m\u001b[1;33m)\u001b[0m\u001b[1;33m\u001b[0m\u001b[1;33m\u001b[0m\u001b[0m\n",
      "\u001b[1;32m<__array_function__ internals>\u001b[0m in \u001b[0;36mhstack\u001b[1;34m(*args, **kwargs)\u001b[0m\n",
      "\u001b[1;32mc:\\users\\user\\appdata\\local\\programs\\python\\python38\\lib\\site-packages\\numpy\\core\\shape_base.py\u001b[0m in \u001b[0;36mhstack\u001b[1;34m(tup)\u001b[0m\n\u001b[0;32m    341\u001b[0m     \u001b[1;31m# As a special case, dimension 0 of 1-dimensional arrays is \"horizontal\"\u001b[0m\u001b[1;33m\u001b[0m\u001b[1;33m\u001b[0m\u001b[1;33m\u001b[0m\u001b[0m\n\u001b[0;32m    342\u001b[0m     \u001b[1;32mif\u001b[0m \u001b[0marrs\u001b[0m \u001b[1;32mand\u001b[0m \u001b[0marrs\u001b[0m\u001b[1;33m[\u001b[0m\u001b[1;36m0\u001b[0m\u001b[1;33m]\u001b[0m\u001b[1;33m.\u001b[0m\u001b[0mndim\u001b[0m \u001b[1;33m==\u001b[0m \u001b[1;36m1\u001b[0m\u001b[1;33m:\u001b[0m\u001b[1;33m\u001b[0m\u001b[1;33m\u001b[0m\u001b[0m\n\u001b[1;32m--> 343\u001b[1;33m         \u001b[1;32mreturn\u001b[0m \u001b[0m_nx\u001b[0m\u001b[1;33m.\u001b[0m\u001b[0mconcatenate\u001b[0m\u001b[1;33m(\u001b[0m\u001b[0marrs\u001b[0m\u001b[1;33m,\u001b[0m \u001b[1;36m0\u001b[0m\u001b[1;33m)\u001b[0m\u001b[1;33m\u001b[0m\u001b[1;33m\u001b[0m\u001b[0m\n\u001b[0m\u001b[0;32m    344\u001b[0m     \u001b[1;32melse\u001b[0m\u001b[1;33m:\u001b[0m\u001b[1;33m\u001b[0m\u001b[1;33m\u001b[0m\u001b[0m\n\u001b[0;32m    345\u001b[0m         \u001b[1;32mreturn\u001b[0m \u001b[0m_nx\u001b[0m\u001b[1;33m.\u001b[0m\u001b[0mconcatenate\u001b[0m\u001b[1;33m(\u001b[0m\u001b[0marrs\u001b[0m\u001b[1;33m,\u001b[0m \u001b[1;36m1\u001b[0m\u001b[1;33m)\u001b[0m\u001b[1;33m\u001b[0m\u001b[1;33m\u001b[0m\u001b[0m\n",
      "\u001b[1;32m<__array_function__ internals>\u001b[0m in \u001b[0;36mconcatenate\u001b[1;34m(*args, **kwargs)\u001b[0m\n",
      "\u001b[1;31mValueError\u001b[0m: all the input arrays must have same number of dimensions, but the array at index 0 has 1 dimension(s) and the array at index 1 has 2 dimension(s)"
     ]
    }
   ],
   "source": [
    "\n",
    "def extract_feature(file_name, mfcc, chroma, mel):\n",
    "    with soundfile.SoundFile(file_name) as sound_file:\n",
    "        X = sound_file.read(dtype=\"float32\")\n",
    "        sample_rate=sound_file.samplerate\n",
    "        print(sample_rate)\n",
    "        if chroma:\n",
    "            stft=np.abs(librosa.stft(X))\n",
    "        result=np.array([])\n",
    "        if mfcc:\n",
    "            mfccs=np.mean(librosa.feature.mfcc(y=X, sr=sample_rate, n_mfcc=40).T, axis=0)\n",
    "            print(mfccs)\n",
    "            result=np.hstack((result, mfccs))\n",
    "        if chroma:\n",
    "            chroma=np.mean(librosa.feature.chroma_stft(S=stft, sr=sample_rate).T,axis=0)\n",
    "            result=np.hstack((result, chroma))\n",
    "        if mel:\n",
    "            mel=np.mean(librosa.feature.melspectrogram(X, sr=sample_rate).T,axis=0)\n",
    "            result=np.hstack((result, mel))\n",
    "    return result\n",
    "\n",
    "# extract_feature(\"./RAVDESS/Actor_01/03-01-03-01-01-01-01.wav\", mfcc=True, chroma=True, mel=True)\n",
    "extract_feature(\"./SUBESCO/F_01_OISHI_S_10_ANGRY_1.wav\", mfcc=True, chroma=True, mel=False)"
   ]
  },
  {
   "cell_type": "code",
   "execution_count": 106,
   "metadata": {},
   "outputs": [
    {
     "name": "stderr",
     "output_type": "stream",
     "text": [
      "<ipython-input-106-cefba59f2626>:12: FutureWarning: Pass y=[-5.8816284e-02 -7.7525623e-02 -5.8026742e-02 ... -3.0722967e-06\n",
      "  1.4238205e-06  2.4898200e-06] as keyword args. From version 0.10 passing these as positional arguments will result in an error\n",
      "  mel=np.mean(librosa.feature.melspectrogram(y, sr=sr).T,axis=0)\n"
     ]
    },
    {
     "data": {
      "text/plain": [
       "array([-1.97970032e+02,  5.39019775e+01, -7.47349930e+00,  1.54062595e+01,\n",
       "       -1.64477658e+00,  6.70004368e-01, -5.09518337e+00, -2.41899991e+00,\n",
       "       -6.94994211e+00,  1.66377449e+00, -4.45638943e+00, -1.83087826e+00,\n",
       "       -2.63091826e+00,  7.52181411e-01, -3.87786865e+00, -1.84587598e+00,\n",
       "       -3.07073021e+00, -7.91006207e-01, -3.81855321e+00,  7.40493655e-01,\n",
       "       -6.76647246e-01,  2.83525729e+00,  2.72117305e+00,  8.32362747e+00,\n",
       "        3.06120205e+00,  5.90772438e+00,  1.62555230e+00,  2.93098593e+00,\n",
       "        6.70543194e-01,  2.71701884e+00,  8.51229578e-03,  3.99384356e+00,\n",
       "        5.54161489e-01,  3.15907979e+00, -1.70438421e+00, -5.74910343e-01,\n",
       "       -1.78887022e+00,  8.05806398e-01, -1.05784154e+00,  8.99862409e-01,\n",
       "        6.66912377e-01,  6.73344135e-01,  6.73634529e-01,  6.35489941e-01,\n",
       "        5.07308662e-01,  4.57295358e-01,  4.84126896e-01,  5.20513892e-01,\n",
       "        5.51498234e-01,  5.98870099e-01,  6.19725525e-01,  6.42768919e-01,\n",
       "        9.18710995e+00,  2.83451271e+00,  3.11082578e+00,  2.70810103e+00,\n",
       "        4.44459724e+00,  1.24270248e+01,  2.23442001e+01,  7.13155670e+01,\n",
       "        5.36911812e+01,  2.58193115e+02,  2.39043198e+02,  1.21841759e+02,\n",
       "        7.41100082e+01,  2.41523209e+01,  1.44982748e+01,  4.47922668e+01,\n",
       "        1.30548431e+02,  9.84437637e+01,  5.63361320e+01,  5.63180389e+01,\n",
       "        7.19981537e+01,  1.05137428e+02,  1.49866653e+02,  9.29703522e+01,\n",
       "        9.91699677e+01,  4.41089096e+01,  2.27890015e+01,  1.44256477e+01,\n",
       "        2.33536320e+01,  2.58105831e+01,  4.01930885e+01,  2.35422039e+01,\n",
       "        3.12010975e+01,  2.18719616e+01,  5.53151970e+01,  3.91445045e+01,\n",
       "        8.63505459e+00,  4.24754429e+00,  2.24052072e+00,  4.02672863e+00,\n",
       "        6.60369205e+00,  6.25467205e+00,  1.91144829e+01,  1.94318085e+01,\n",
       "        1.21264105e+01,  1.97119083e+01,  9.57825089e+00,  5.20889330e+00,\n",
       "        4.50791931e+00,  3.77330828e+00,  5.73618269e+00,  9.34187603e+00,\n",
       "        1.59941950e+01,  1.98912983e+01,  1.79024315e+01,  1.75482292e+01,\n",
       "        1.15922909e+01,  5.62746620e+00,  7.00409889e+00,  6.55459499e+00,\n",
       "        5.96304178e+00,  4.17903328e+00,  5.85633612e+00,  6.31823874e+00,\n",
       "        3.64817810e+00,  2.06206775e+00,  3.32302547e+00,  4.43627501e+00,\n",
       "        3.56544328e+00,  2.21981406e+00,  1.87756753e+00,  2.41434932e+00,\n",
       "        2.31525040e+00,  2.87947893e+00,  1.92593610e+00,  2.83164525e+00,\n",
       "        3.32637382e+00,  3.47810555e+00,  4.89374971e+00,  3.83278298e+00,\n",
       "        3.25857854e+00,  2.46441913e+00,  1.52250791e+00,  1.53457892e+00,\n",
       "        1.47945261e+00,  9.93555546e-01,  1.16057050e+00,  1.71093953e+00,\n",
       "        1.37442660e+00,  1.12897837e+00,  1.08289111e+00,  1.05994439e+00,\n",
       "        1.15092707e+00,  6.53430164e-01,  5.52978098e-01,  4.70799685e-01,\n",
       "        3.65202516e-01,  4.34436649e-01,  4.41052884e-01,  4.82398331e-01,\n",
       "        6.48466408e-01,  5.96856177e-01,  4.34161484e-01,  3.79835039e-01,\n",
       "        3.03087175e-01,  2.69745022e-01,  2.71258652e-01,  2.89851755e-01,\n",
       "        2.43033454e-01,  2.17583060e-01,  1.86394110e-01,  1.86054170e-01,\n",
       "        1.88782573e-01,  1.64036989e-01,  1.75410554e-01,  1.67779446e-01,\n",
       "        1.60105452e-01,  1.43771976e-01,  1.06509224e-01,  8.72272551e-02,\n",
       "        8.84794146e-02,  8.47487673e-02,  8.54687467e-02,  9.10920054e-02,\n",
       "        9.24775451e-02,  6.63417280e-02,  1.76748782e-02,  1.33248814e-03])"
      ]
     },
     "execution_count": 106,
     "metadata": {},
     "output_type": "execute_result"
    }
   ],
   "source": [
    "def extract_feature(file_name, mfccs, chroma, mel):\n",
    "    y ,sr = librosa.load(file_name, duration=5, offset=0.5)\n",
    "    result=np.array([])\n",
    "    if(mfccs):\n",
    "        mfccs =np.mean(librosa.feature.mfcc(y=y,sr=sr,n_mfcc=40).T,axis=0)\n",
    "        result=np.hstack((result, mfccs))\n",
    "    if(chroma):\n",
    "        stft=np.abs(librosa.stft(y))\n",
    "        chroma=np.mean(librosa.feature.chroma_stft(S=stft, sr=sr).T,axis=0)\n",
    "        result=np.hstack((result, chroma))\n",
    "    if mel:\n",
    "        mel=np.mean(librosa.feature.melspectrogram(y, sr=sr).T,axis=0)\n",
    "        result=np.hstack((result, mel))\n",
    "    return result\n",
    "\n",
    "\n",
    "extract_feature(\"./SUBESCO/F_01_OISHI_S_10_ANGRY_1.wav\", mfccs=True, chroma=True, mel=True)"
   ]
  },
  {
   "cell_type": "markdown",
   "metadata": {},
   "source": [
    "## Emotions in the RAVDESS dataset"
   ]
  },
  {
   "cell_type": "code",
   "execution_count": 78,
   "metadata": {},
   "outputs": [],
   "source": [
    "emotions={\n",
    "  '01':'neutral',\n",
    "  '02':'calm',\n",
    "  '03':'happy',\n",
    "  '04':'sad',\n",
    "  '05':'angry',\n",
    "  '06':'fearful',\n",
    "  '07':'disgust',\n",
    "  '08':'surprised'\n",
    "}\n",
    "#DataFlair - Emotions to observe\n",
    "observed_emotions=['angry', 'happy', 'fearful', 'disgust']"
   ]
  },
  {
   "cell_type": "markdown",
   "metadata": {},
   "source": [
    "## Load the data and extract features for each sound file"
   ]
  },
  {
   "cell_type": "code",
   "execution_count": 79,
   "metadata": {},
   "outputs": [],
   "source": [
    "#DataFlair - Load the data and extract features for each sound file\n",
    "def load_data(test_size=0.2):\n",
    "    x,y=[],[]\n",
    "    for file in glob.glob(\".\\\\RAVDESS\\\\Actor_*\\\\*.wav\"):\n",
    "        file_name=os.path.basename(file)\n",
    "        emotion=emotions[file_name.split(\"-\")[2]]\n",
    "        if emotion not in observed_emotions:\n",
    "            continue\n",
    "        print(file)\n",
    "        input()\n",
    "        feature=extract_feature(file, mfcc=True, chroma=True, mel=True)\n",
    "        x.append(feature)\n",
    "        y.append(emotion)\n",
    "    return train_test_split(np.array(x), y, test_size=test_size, random_state=9)"
   ]
  },
  {
   "cell_type": "code",
   "execution_count": null,
   "metadata": {},
   "outputs": [],
   "source": []
  },
  {
   "cell_type": "markdown",
   "metadata": {},
   "source": [
    "## Split the dataset"
   ]
  },
  {
   "cell_type": "code",
   "execution_count": 80,
   "metadata": {},
   "outputs": [
    {
     "name": "stdout",
     "output_type": "stream",
     "text": [
      ".\\RAVDESS\\Actor_01\\03-01-03-01-01-01-01.wav\n",
      "\n"
     ]
    },
    {
     "name": "stderr",
     "output_type": "stream",
     "text": [
      "<ipython-input-77-9f41438a0868>:15: FutureWarning: Pass y=[0. 0. 0. ... 0. 0. 0.] as keyword args. From version 0.10 passing these as positional arguments will result in an error\n",
      "  mel=np.mean(librosa.feature.melspectrogram(X, sr=sample_rate).T,axis=0)\n"
     ]
    },
    {
     "name": "stdout",
     "output_type": "stream",
     "text": [
      ".\\RAVDESS\\Actor_01\\03-01-03-01-01-02-01.wav\n"
     ]
    },
    {
     "ename": "KeyboardInterrupt",
     "evalue": "Interrupted by user",
     "output_type": "error",
     "traceback": [
      "\u001b[1;31m---------------------------------------------------------------------------\u001b[0m",
      "\u001b[1;31mKeyboardInterrupt\u001b[0m                         Traceback (most recent call last)",
      "\u001b[1;32m<ipython-input-80-03a67f23ae57>\u001b[0m in \u001b[0;36m<module>\u001b[1;34m\u001b[0m\n\u001b[1;32m----> 1\u001b[1;33m \u001b[0mx_train\u001b[0m\u001b[1;33m,\u001b[0m\u001b[0mx_test\u001b[0m\u001b[1;33m,\u001b[0m\u001b[0my_train\u001b[0m\u001b[1;33m,\u001b[0m\u001b[0my_test\u001b[0m\u001b[1;33m=\u001b[0m\u001b[0mload_data\u001b[0m\u001b[1;33m(\u001b[0m\u001b[0mtest_size\u001b[0m\u001b[1;33m=\u001b[0m\u001b[1;36m0.25\u001b[0m\u001b[1;33m)\u001b[0m\u001b[1;33m\u001b[0m\u001b[1;33m\u001b[0m\u001b[0m\n\u001b[0m",
      "\u001b[1;32m<ipython-input-79-f482f2251782>\u001b[0m in \u001b[0;36mload_data\u001b[1;34m(test_size)\u001b[0m\n\u001b[0;32m      8\u001b[0m             \u001b[1;32mcontinue\u001b[0m\u001b[1;33m\u001b[0m\u001b[1;33m\u001b[0m\u001b[0m\n\u001b[0;32m      9\u001b[0m         \u001b[0mprint\u001b[0m\u001b[1;33m(\u001b[0m\u001b[0mfile\u001b[0m\u001b[1;33m)\u001b[0m\u001b[1;33m\u001b[0m\u001b[1;33m\u001b[0m\u001b[0m\n\u001b[1;32m---> 10\u001b[1;33m         \u001b[0minput\u001b[0m\u001b[1;33m(\u001b[0m\u001b[1;33m)\u001b[0m\u001b[1;33m\u001b[0m\u001b[1;33m\u001b[0m\u001b[0m\n\u001b[0m\u001b[0;32m     11\u001b[0m         \u001b[0mfeature\u001b[0m\u001b[1;33m=\u001b[0m\u001b[0mextract_feature\u001b[0m\u001b[1;33m(\u001b[0m\u001b[0mfile\u001b[0m\u001b[1;33m,\u001b[0m \u001b[0mmfcc\u001b[0m\u001b[1;33m=\u001b[0m\u001b[1;32mTrue\u001b[0m\u001b[1;33m,\u001b[0m \u001b[0mchroma\u001b[0m\u001b[1;33m=\u001b[0m\u001b[1;32mTrue\u001b[0m\u001b[1;33m,\u001b[0m \u001b[0mmel\u001b[0m\u001b[1;33m=\u001b[0m\u001b[1;32mTrue\u001b[0m\u001b[1;33m)\u001b[0m\u001b[1;33m\u001b[0m\u001b[1;33m\u001b[0m\u001b[0m\n\u001b[0;32m     12\u001b[0m         \u001b[0mx\u001b[0m\u001b[1;33m.\u001b[0m\u001b[0mappend\u001b[0m\u001b[1;33m(\u001b[0m\u001b[0mfeature\u001b[0m\u001b[1;33m)\u001b[0m\u001b[1;33m\u001b[0m\u001b[1;33m\u001b[0m\u001b[0m\n",
      "\u001b[1;32mc:\\users\\user\\appdata\\local\\programs\\python\\python38\\lib\\site-packages\\ipykernel\\kernelbase.py\u001b[0m in \u001b[0;36mraw_input\u001b[1;34m(self, prompt)\u001b[0m\n\u001b[0;32m    855\u001b[0m                 \u001b[1;34m\"raw_input was called, but this frontend does not support input requests.\"\u001b[0m\u001b[1;33m\u001b[0m\u001b[1;33m\u001b[0m\u001b[0m\n\u001b[0;32m    856\u001b[0m             )\n\u001b[1;32m--> 857\u001b[1;33m         return self._input_request(str(prompt),\n\u001b[0m\u001b[0;32m    858\u001b[0m             \u001b[0mself\u001b[0m\u001b[1;33m.\u001b[0m\u001b[0m_parent_ident\u001b[0m\u001b[1;33m,\u001b[0m\u001b[1;33m\u001b[0m\u001b[1;33m\u001b[0m\u001b[0m\n\u001b[0;32m    859\u001b[0m             \u001b[0mself\u001b[0m\u001b[1;33m.\u001b[0m\u001b[0m_parent_header\u001b[0m\u001b[1;33m,\u001b[0m\u001b[1;33m\u001b[0m\u001b[1;33m\u001b[0m\u001b[0m\n",
      "\u001b[1;32mc:\\users\\user\\appdata\\local\\programs\\python\\python38\\lib\\site-packages\\ipykernel\\kernelbase.py\u001b[0m in \u001b[0;36m_input_request\u001b[1;34m(self, prompt, ident, parent, password)\u001b[0m\n\u001b[0;32m    899\u001b[0m             \u001b[1;32mexcept\u001b[0m \u001b[0mKeyboardInterrupt\u001b[0m\u001b[1;33m:\u001b[0m\u001b[1;33m\u001b[0m\u001b[1;33m\u001b[0m\u001b[0m\n\u001b[0;32m    900\u001b[0m                 \u001b[1;31m# re-raise KeyboardInterrupt, to truncate traceback\u001b[0m\u001b[1;33m\u001b[0m\u001b[1;33m\u001b[0m\u001b[1;33m\u001b[0m\u001b[0m\n\u001b[1;32m--> 901\u001b[1;33m                 \u001b[1;32mraise\u001b[0m \u001b[0mKeyboardInterrupt\u001b[0m\u001b[1;33m(\u001b[0m\u001b[1;34m\"Interrupted by user\"\u001b[0m\u001b[1;33m)\u001b[0m \u001b[1;32mfrom\u001b[0m \u001b[1;32mNone\u001b[0m\u001b[1;33m\u001b[0m\u001b[1;33m\u001b[0m\u001b[0m\n\u001b[0m\u001b[0;32m    902\u001b[0m             \u001b[1;32mexcept\u001b[0m \u001b[0mException\u001b[0m \u001b[1;32mas\u001b[0m \u001b[0me\u001b[0m\u001b[1;33m:\u001b[0m\u001b[1;33m\u001b[0m\u001b[1;33m\u001b[0m\u001b[0m\n\u001b[0;32m    903\u001b[0m                 \u001b[0mself\u001b[0m\u001b[1;33m.\u001b[0m\u001b[0mlog\u001b[0m\u001b[1;33m.\u001b[0m\u001b[0mwarning\u001b[0m\u001b[1;33m(\u001b[0m\u001b[1;34m\"Invalid Message:\"\u001b[0m\u001b[1;33m,\u001b[0m \u001b[0mexc_info\u001b[0m\u001b[1;33m=\u001b[0m\u001b[1;32mTrue\u001b[0m\u001b[1;33m)\u001b[0m\u001b[1;33m\u001b[0m\u001b[1;33m\u001b[0m\u001b[0m\n",
      "\u001b[1;31mKeyboardInterrupt\u001b[0m: Interrupted by user"
     ]
    }
   ],
   "source": [
    "x_train,x_test,y_train,y_test=load_data(test_size=0.25)"
   ]
  },
  {
   "cell_type": "code",
   "execution_count": 70,
   "metadata": {
    "scrolled": true
   },
   "outputs": [
    {
     "data": {
      "image/png": "[encoded data removed]",
      "text/plain": [
       "<Figure size 432x288 with 1 Axes>"
      ]
     },
     "metadata": {
      "needs_background": "light"
     },
     "output_type": "display_data"
    }
   ],
   "source": [
    "import matplotlib.pyplot as mplt\n",
    "import seaborn as sbn\n",
    "\n",
    "mplt.title(\"Count of Emotions\", size=16)\n",
    "sbn.countplot(x=y_train)\n",
    "mplt.xlabel('Count',size = 12)\n",
    "mplt.ylabel('Emotions',size = 12)\n",
    "sbn.despine(top=True,right=True,left=False,bottom=False)"
   ]
  },
  {
   "cell_type": "code",
   "execution_count": 71,
   "metadata": {},
   "outputs": [
    {
     "data": {
      "text/plain": [
       "array([-5.22061890e+02,  3.50668907e+01,  3.75342965e+00,  8.25096607e+00,\n",
       "       -6.82484865e+00, -2.17128977e-01, -1.53533993e+01, -8.40860748e+00,\n",
       "       -1.37559566e+01,  9.54228461e-01, -8.50486183e+00, -2.91087556e+00,\n",
       "       -6.54408336e-01, -2.16127944e+00,  2.59967774e-01, -3.94957006e-01,\n",
       "        3.93508315e+00,  3.49161673e+00,  1.61637747e+00, -7.00251102e-01,\n",
       "       -2.44239044e+00, -5.55101573e-01,  7.47600138e-01, -5.85062504e-01,\n",
       "       -8.76788199e-02,  5.93730497e+00,  5.41902018e+00,  5.92085218e+00,\n",
       "        1.71201110e+00,  2.79930902e+00,  4.34409046e+00,  6.64095545e+00,\n",
       "        8.33745670e+00,  4.66863632e+00, -8.62458050e-02,  7.11737633e-01,\n",
       "        3.79981446e+00,  5.90181828e+00,  1.02495813e+00, -1.52339302e-02,\n",
       "        5.53609192e-01,  5.79114377e-01,  6.16039157e-01,  6.00282371e-01,\n",
       "        6.41938984e-01,  7.51618445e-01,  7.65470386e-01,  7.59810865e-01,\n",
       "        7.16218531e-01,  6.45714760e-01,  6.92020059e-01,  6.72237098e-01,\n",
       "        1.72313396e-03,  1.00242120e-04,  4.71422318e-05,  6.58992940e-05,\n",
       "        3.31467512e-04,  1.48413749e-03,  1.03215575e-02,  1.95622612e-02,\n",
       "        4.07620482e-02,  1.23357043e-01,  2.07657665e-02,  1.77737772e-02,\n",
       "        6.30736724e-02,  4.59225737e-02,  8.80853012e-02,  4.74345624e-01,\n",
       "        2.46499109e+00,  8.76002133e-01,  3.72375734e-02,  7.49250650e-02,\n",
       "        4.40886989e-02,  2.09098682e-02,  3.25809754e-02,  3.72785702e-02,\n",
       "        3.50585356e-02,  2.68200636e-02,  2.34279167e-02,  1.21413264e-02,\n",
       "        3.92254852e-02,  1.93815216e-01,  2.64341503e-01,  7.59339854e-02,\n",
       "        5.86196817e-02,  7.18718544e-02,  3.26806456e-02,  6.45793602e-03,\n",
       "        4.68848599e-03,  6.93503115e-03,  3.98693187e-03,  1.74421270e-03,\n",
       "        7.92835653e-03,  1.22444248e-02,  6.99710706e-03,  2.09580432e-03,\n",
       "        8.72890290e-04,  8.26810312e-04,  1.59993861e-03,  3.88799445e-03,\n",
       "        1.69891808e-02,  1.07879005e-02,  1.37906836e-03,  4.77177906e-04,\n",
       "        4.14776878e-04,  3.50572809e-04,  9.57127661e-04,  1.87867170e-03,\n",
       "        2.27698162e-02,  1.77926272e-02,  1.29142089e-03,  6.83411083e-04,\n",
       "        2.03280337e-03,  2.07229960e-03,  7.95111153e-03,  7.55599933e-03,\n",
       "        7.35743903e-04,  5.17153356e-04,  4.27392049e-04,  6.93547772e-04,\n",
       "        9.86980041e-04,  1.49487762e-03,  9.91374487e-04,  2.48352560e-04,\n",
       "        2.94169324e-04,  4.73353924e-04,  4.32809553e-04,  2.24671414e-04,\n",
       "        4.14546841e-04,  9.54381016e-04,  8.59276566e-04,  7.01110810e-04,\n",
       "        9.96038318e-04,  1.88275659e-03,  1.17619126e-03,  1.08112430e-03,\n",
       "        1.11243676e-03,  1.63107889e-03,  1.49413967e-03,  8.59256717e-04,\n",
       "        8.57593433e-04,  1.25529431e-03,  5.57258434e-04,  5.07787685e-04,\n",
       "        6.33467862e-04,  5.66772884e-04,  7.65692617e-04,  5.29023760e-04,\n",
       "        3.87064938e-04,  5.73474856e-04,  2.57221371e-04,  3.59161058e-04,\n",
       "        5.39397588e-04,  6.91883732e-04,  1.25578558e-03,  1.51539117e-03,\n",
       "        2.18466297e-03,  2.18470884e-03,  1.91722007e-03,  1.63097819e-03,\n",
       "        1.43973331e-03,  1.83745648e-03,  2.23886245e-03,  2.03706301e-03,\n",
       "        1.88433472e-03,  1.96410809e-03,  2.33969954e-03,  1.77387800e-03,\n",
       "        1.22031930e-03,  1.05961657e-03,  1.08649710e-03,  6.51408278e-04,\n",
       "        5.18454588e-04,  6.95311173e-04,  5.41297370e-04,  4.03911487e-04,\n",
       "        3.03489942e-04,  1.65243153e-04,  1.04321596e-04,  6.55571566e-05])"
      ]
     },
     "execution_count": 71,
     "metadata": {},
     "output_type": "execute_result"
    }
   ],
   "source": [
    "x_train[0]"
   ]
  },
  {
   "cell_type": "code",
   "execution_count": 53,
   "metadata": {},
   "outputs": [],
   "source": [
    "def createwaveplt(data,sr,e):\n",
    "    mplt.figure(figsize=(10,3))\n",
    "    mplt.title('Waveplot for audio with () emotion'.format(e), size=15)\n",
    "    librosa.display_waveplot(data,sr=sr)\n",
    "    mplt.show()"
   ]
  },
  {
   "cell_type": "markdown",
   "metadata": {},
   "source": [
    "## DATASET Dimensions"
   ]
  },
  {
   "cell_type": "code",
   "execution_count": 6,
   "metadata": {},
   "outputs": [
    {
     "name": "stdout",
     "output_type": "stream",
     "text": [
      "(576, 192)\n"
     ]
    }
   ],
   "source": [
    "print((x_train.shape[0], x_test.shape[0]))"
   ]
  },
  {
   "cell_type": "markdown",
   "metadata": {},
   "source": [
    "## Get the number of features extracted"
   ]
  },
  {
   "cell_type": "code",
   "execution_count": 16,
   "metadata": {},
   "outputs": [
    {
     "name": "stdout",
     "output_type": "stream",
     "text": [
      "Features extracted: 180\n"
     ]
    }
   ],
   "source": [
    "\n",
    "print(f'Features extracted: {x_train.shape[1]}')"
   ]
  },
  {
   "cell_type": "markdown",
   "metadata": {},
   "source": [
    "## Initialize the Multi Layer Perceptron Classifier"
   ]
  },
  {
   "cell_type": "code",
   "execution_count": 17,
   "metadata": {},
   "outputs": [],
   "source": [
    "\n",
    "model=MLPClassifier(alpha=0.01, batch_size=256, epsilon=1e-08, hidden_layer_sizes=(300,), learning_rate='adaptive', max_iter=500)"
   ]
  },
  {
   "cell_type": "markdown",
   "metadata": {},
   "source": [
    "## Train the model"
   ]
  },
  {
   "cell_type": "code",
   "execution_count": 9,
   "metadata": {},
   "outputs": [
    {
     "data": {
      "text/plain": [
       "MLPClassifier(alpha=0.01, batch_size=256, hidden_layer_sizes=(300,),\n",
       "              learning_rate='adaptive', max_iter=500)"
      ]
     },
     "execution_count": 9,
     "metadata": {},
     "output_type": "execute_result"
    }
   ],
   "source": [
    "\n",
    "model.fit(x_train,y_train)"
   ]
  },
  {
   "cell_type": "markdown",
   "metadata": {},
   "source": [
    "## Predict for the test set"
   ]
  },
  {
   "cell_type": "code",
   "execution_count": null,
   "metadata": {},
   "outputs": [],
   "source": [
    "\n",
    "y_pred=model.predict(x_test)"
   ]
  },
  {
   "cell_type": "markdown",
   "metadata": {},
   "source": [
    "## Calculate the accuracy of our model"
   ]
  },
  {
   "cell_type": "code",
   "execution_count": 11,
   "metadata": {},
   "outputs": [
    {
     "name": "stdout",
     "output_type": "stream",
     "text": [
      "Accuracy: 65.62%\n"
     ]
    }
   ],
   "source": [
    "accuracy=accuracy_score(y_true=y_test, y_pred=y_pred)\n",
    "print(\"Accuracy: {:.2f}%\".format(accuracy*100))"
   ]
  },
  {
   "cell_type": "code",
   "execution_count": 32,
   "metadata": {},
   "outputs": [
    {
     "data": {
      "text/plain": [
       "array([-4.95644043e+02,  3.97769356e+01, -4.12729502e+00, -1.97449112e+00,\n",
       "       -4.54384279e+00, -6.83164120e+00, -2.12619820e+01, -1.05822439e+01,\n",
       "       -8.26089478e+00, -5.67265701e+00, -8.64184284e+00, -6.25973034e+00,\n",
       "       -9.26407146e+00, -1.98956347e+00, -5.35249949e+00, -6.02671957e+00,\n",
       "       -3.41138005e+00, -4.10156488e+00, -6.02799940e+00, -4.22197390e+00,\n",
       "       -3.69840264e+00, -5.06794071e+00, -3.61624265e+00, -2.78097582e+00,\n",
       "       -3.19974613e+00,  4.09083188e-01,  6.72381341e-01,  2.20401669e+00,\n",
       "        7.05427289e-01,  4.31941360e-01, -8.01847219e-01,  1.65409005e+00,\n",
       "        2.53967810e+00,  5.30073822e-01, -6.04833782e-01, -9.53970134e-01,\n",
       "       -6.36675119e-01,  2.11421132e+00,  1.76953936e+00,  5.73146641e-01,\n",
       "        5.91688514e-01,  6.26818359e-01,  6.38921976e-01,  6.76621854e-01,\n",
       "        7.11426795e-01,  7.09640980e-01,  7.48476863e-01,  7.71825254e-01,\n",
       "        7.61754572e-01,  7.47252226e-01,  7.33365476e-01,  5.93863189e-01,\n",
       "        6.44127658e-06,  4.05897263e-05,  1.91940664e-04,  4.21318633e-04,\n",
       "        2.81181908e-03,  6.36716560e-02,  2.29000539e-01,  2.66501158e-01,\n",
       "        5.48094451e-01,  5.53924680e-01,  2.53898561e-01,  3.16889107e-01,\n",
       "        2.62365073e-01,  1.60589144e-01,  6.09111935e-02,  3.03278774e-01,\n",
       "        7.64416337e-01,  1.16880405e+00,  8.71866882e-01,  1.58384466e+00,\n",
       "        1.98175561e+00,  1.67308584e-01,  9.80545506e-02,  1.23992547e-01,\n",
       "        1.31894678e-01,  1.36142343e-01,  9.91779417e-02,  8.64881426e-02,\n",
       "        1.57054484e-01,  1.93158060e-01,  1.45549461e-01,  4.11957800e-02,\n",
       "        2.60221194e-02,  1.39509868e-02,  1.22408560e-02,  6.40017819e-03,\n",
       "        5.28409937e-03,  7.17296591e-03,  1.13497842e-02,  1.15811164e-02,\n",
       "        2.66753007e-02,  1.67494491e-02,  5.48167108e-03,  6.43632142e-03,\n",
       "        1.15674641e-02,  2.21240837e-02,  2.69682147e-02,  6.59781098e-02,\n",
       "        6.33546039e-02,  4.86406721e-02,  3.30399200e-02,  8.57691560e-03,\n",
       "        4.60308651e-03,  6.43844577e-03,  1.03491368e-02,  1.92766953e-02,\n",
       "        2.87647210e-02,  2.95030642e-02,  1.91132557e-02,  9.16462392e-03,\n",
       "        1.03769852e-02,  9.20500327e-03,  6.96264300e-03,  1.50575936e-02,\n",
       "        9.86866653e-03,  7.06617814e-03,  9.46868584e-03,  1.55568561e-02,\n",
       "        7.38952029e-03,  9.44520161e-03,  7.60476943e-03,  3.97661142e-03,\n",
       "        7.02757249e-03,  5.98148210e-03,  4.89508174e-03,  4.27378574e-03,\n",
       "        5.94891608e-03,  4.21125256e-03,  3.14620323e-03,  3.49146058e-03,\n",
       "        3.83830816e-03,  2.87293992e-03,  1.30789995e-03,  7.81320443e-04,\n",
       "        3.14144709e-04,  1.81388619e-04,  3.19975283e-04,  5.10477112e-04,\n",
       "        6.55226584e-04,  9.65996936e-04,  1.07727794e-03,  9.23965301e-04,\n",
       "        7.71161285e-04,  1.55990210e-03,  1.26105419e-03,  2.58313934e-03,\n",
       "        1.44559774e-03,  2.15455052e-03,  3.72198294e-03,  2.81046052e-03,\n",
       "        2.26559374e-03,  2.03898712e-03,  2.44435226e-03,  1.88592356e-03,\n",
       "        1.30892219e-03,  8.06244323e-04,  1.05668767e-03,  8.14172905e-04,\n",
       "        1.05761155e-03,  1.22185424e-03,  1.37738301e-03,  1.10379013e-03,\n",
       "        1.39136496e-03,  1.58322160e-03,  1.41498924e-03,  1.65605545e-03,\n",
       "        1.49102986e-03,  1.32984121e-03,  9.91326524e-04,  1.26065942e-03,\n",
       "        1.30373263e-03,  2.38404190e-03,  2.20396952e-03,  2.53197155e-03,\n",
       "        2.58208835e-03,  2.48890836e-03,  1.93386094e-03,  1.24336418e-03])"
      ]
     },
     "execution_count": 32,
     "metadata": {},
     "output_type": "execute_result"
    }
   ],
   "source": [
    "x_train[0]"
   ]
  },
  {
   "cell_type": "code",
   "execution_count": null,
   "metadata": {},
   "outputs": [],
   "source": []
  },
  {
   "cell_type": "code",
   "execution_count": null,
   "metadata": {},
   "outputs": [],
   "source": []
  }
 ],
 "metadata": {
  "kernelspec": {
   "display_name": "Python 3",
   "language": "python",
   "name": "python3"
  },
  "language_info": {
   "codemirror_mode": {
    "name": "ipython",
    "version": 3
   },
   "file_extension": ".py",
   "mimetype": "text/x-python",
   "name": "python",
   "nbconvert_exporter": "python",
   "pygments_lexer": "ipython3",
   "version": "3.8.3"
  }
 },
 "nbformat": 4,
 "nbformat_minor": 5
}
