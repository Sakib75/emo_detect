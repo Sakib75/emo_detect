{
 "cells": [
  {
   "cell_type": "markdown",
   "metadata": {},
   "source": [
    "## Import necessary libraries"
   ]
  },
  {
   "cell_type": "code",
   "execution_count": 20,
   "metadata": {},
   "outputs": [],
   "source": [
    "import librosa\n",
    "import soundfile\n",
    "import os, glob, pickle\n",
    "import numpy as np\n",
    "from sklearn.model_selection import train_test_split\n",
    "from sklearn.neural_network import MLPClassifier\n",
    "from sklearn.metrics import accuracy_score"
   ]
  },
  {
   "cell_type": "markdown",
   "metadata": {},
   "source": [
    "## Extract features (mfcc, chroma, mel) from a sound file"
   ]
  },
  {
   "cell_type": "code",
   "execution_count": 21,
   "metadata": {},
   "outputs": [],
   "source": [
    "\n",
    "def extract_feature(file_name, mfcc, chroma, mel):\n",
    "    with soundfile.SoundFile(file_name) as sound_file:\n",
    "        X = sound_file.read(dtype=\"float32\")\n",
    "        sample_rate=sound_file.samplerate\n",
    "        if chroma:\n",
    "            stft=np.abs(librosa.stft(X))\n",
    "        result=np.array([])\n",
    "        if mfcc:\n",
    "            mfccs=np.mean(librosa.feature.mfcc(y=X, sr=sample_rate, n_mfcc=40).T, axis=0)\n",
    "            result=np.hstack((result, mfccs))\n",
    "        if chroma:\n",
    "            chroma=np.mean(librosa.feature.chroma_stft(S=stft, sr=sample_rate).T,axis=0)\n",
    "            result=np.hstack((result, chroma))\n",
    "        if mel:\n",
    "            mel=np.mean(librosa.feature.melspectrogram(X, sr=sample_rate).T,axis=0)\n",
    "            result=np.hstack((result, mel))\n",
    "    return result"
   ]
  },
  {
   "cell_type": "markdown",
   "metadata": {},
   "source": [
    "## Emotions in the RAVDESS dataset"
   ]
  },
  {
   "cell_type": "code",
   "execution_count": 23,
   "metadata": {},
   "outputs": [],
   "source": [
    "emotions={\n",
    "  '01':'neutral',\n",
    "  '02':'calm',\n",
    "  '03':'happy',\n",
    "  '04':'sad',\n",
    "  '05':'angry',\n",
    "  '06':'fearful',\n",
    "  '07':'disgust',\n",
    "  '08':'surprised'\n",
    "}\n",
    "#DataFlair - Emotions to observe\n",
    "observed_emotions=['calm', 'happy', 'fearful', 'disgust']"
   ]
  },
  {
   "cell_type": "markdown",
   "metadata": {},
   "source": [
    "## Load the data and extract features for each sound file"
   ]
  },
  {
   "cell_type": "code",
   "execution_count": 54,
   "metadata": {},
   "outputs": [],
   "source": [
    "\n",
    "def load_data(test_size=0.2):\n",
    "    x,y=[],[]\n",
    "    for file in glob.glob(\"//home//sakib//EmotionRecog//DATA//Actor_*//*.wav\"):\n",
    "        file_name=os.path.basename(file)\n",
    "        emotion=emotions[file_name.split(\"-\")[2]]\n",
    "        if emotion not in observed_emotions:\n",
    "            continue\n",
    "        feature=extract_feature(file, mfcc=True, chroma=True, mel=True)\n",
    "        x.append(feature)\n",
    "        y.append(emotion)\n",
    "    return train_test_split(np.array(x), y, test_size=test_size, random_state=9)"
   ]
  },
  {
   "cell_type": "markdown",
   "metadata": {},
   "source": [
    "## Split the dataset"
   ]
  },
  {
   "cell_type": "code",
   "execution_count": null,
   "metadata": {},
   "outputs": [
    {
     "name": "stderr",
     "output_type": "stream",
     "text": [
      "/tmp/ipykernel_4787/3312442463.py:15: FutureWarning: Pass y=[ 9.1552734e-05  9.1552734e-05  9.1552734e-05 ... -1.5258789e-04\n",
      " -1.5258789e-04 -1.2207031e-04] as keyword args. From version 0.10 passing these as positional arguments will result in an error\n",
      "  mel=np.mean(librosa.feature.melspectrogram(X, sr=sample_rate).T,axis=0)\n"
     ]
    },
    {
     "name": "stdout",
     "output_type": "stream",
     "text": [
      "[array([-6.66761841e+02,  7.90703201e+01,  9.97878170e+00,  2.23466568e+01,\n",
      "        1.21350088e+01,  4.85466957e+00, -7.99741268e+00,  2.45991230e+00,\n",
      "        1.82035649e+00,  9.23905969e-01,  2.42280865e+00,  7.86191607e+00,\n",
      "       -2.73249793e+00,  4.12002993e+00,  2.11457634e+00, -2.67265111e-01,\n",
      "        4.08437395e+00,  1.38240069e-01, -1.58503819e+00,  1.62598097e+00,\n",
      "       -1.30634582e+00, -1.63895637e-01, -5.61414123e-01,  6.26430702e+00,\n",
      "        1.83221173e+00,  2.16145682e+00, -8.04534078e-01,  7.80783832e-01,\n",
      "        2.10783213e-01,  2.99311590e+00,  6.32907569e-01,  1.31445718e+00,\n",
      "       -3.07898402e+00, -1.39163122e-01,  2.82908231e-01,  1.16018248e+00,\n",
      "       -1.09771883e+00, -1.62363458e+00, -5.24756797e-02,  1.32033086e+00,\n",
      "        6.93610430e-01,  6.85017943e-01,  6.31618619e-01,  6.67239547e-01,\n",
      "        6.95460379e-01,  7.14036644e-01,  6.96256399e-01,  7.20292151e-01,\n",
      "        6.93862438e-01,  7.40324140e-01,  8.28104794e-01,  7.74887264e-01,\n",
      "        8.75060796e-04,  4.33249399e-04,  2.13515200e-03,  1.11612091e-02,\n",
      "        8.78012646e-03,  1.05730109e-02,  7.05125509e-03,  1.94709073e-03,\n",
      "        3.72337457e-03,  9.48102400e-03,  9.77902394e-03,  3.19772167e-03,\n",
      "        3.01411306e-03,  3.17716040e-03,  4.02983977e-03,  7.77547434e-03,\n",
      "        9.08323564e-03,  3.96984629e-03,  8.53934977e-03,  1.23131070e-02,\n",
      "        5.94866322e-03,  8.33550189e-03,  6.17160741e-03,  8.10568873e-03,\n",
      "        6.23226864e-03,  1.22257788e-02,  5.76754985e-03,  9.90672782e-03,\n",
      "        6.21652696e-03,  6.81603269e-04,  2.80460110e-03,  8.48015677e-03,\n",
      "        9.53049585e-03,  1.11917127e-03,  2.12909974e-04,  5.20784757e-04,\n",
      "        2.16833176e-03,  1.65463425e-03,  1.04493636e-03,  2.79796979e-04,\n",
      "        2.35743166e-04,  2.64427712e-04,  3.33778618e-04,  1.04379875e-03,\n",
      "        3.35359923e-03,  3.42137413e-03,  3.43602645e-04,  6.44609172e-05,\n",
      "        3.90015397e-04,  1.35724095e-03,  1.80720433e-03,  1.96738238e-03,\n",
      "        1.04592519e-03,  1.27112260e-03,  2.23704803e-04,  3.61295679e-04,\n",
      "        9.96073242e-04,  5.05886448e-04,  3.96000192e-04,  3.13315511e-04,\n",
      "        8.56226659e-04,  1.04075868e-03,  2.91004777e-04,  2.06983008e-04,\n",
      "        9.64139763e-04,  3.54481628e-04,  4.23229794e-04,  3.88008397e-04,\n",
      "        4.17962699e-04,  2.30023303e-04,  7.64261204e-05,  3.31191259e-04,\n",
      "        3.39646940e-04,  1.23931328e-04,  2.25937925e-04,  2.46461772e-04,\n",
      "        2.48564262e-04,  2.71824392e-04,  1.75779613e-04,  1.30994013e-04,\n",
      "        1.15218638e-04,  9.51797774e-05,  2.34341023e-05,  1.60162072e-05,\n",
      "        8.58245312e-06,  6.51759638e-06,  6.30614613e-06,  4.02053274e-06,\n",
      "        1.22103156e-05,  9.11450934e-06,  1.00699053e-05,  1.91591516e-05,\n",
      "        2.05101805e-05,  2.64621394e-05,  3.61871025e-05,  3.79828634e-05,\n",
      "        2.60098132e-05,  1.97168411e-05,  2.80743516e-05,  2.51375004e-05,\n",
      "        1.17151058e-05,  1.10138199e-05,  1.04777173e-05,  8.37088737e-06,\n",
      "        7.07155368e-06,  9.13856275e-06,  2.81432240e-05,  3.23277018e-05,\n",
      "        6.91780369e-05,  5.86241331e-05,  1.12808011e-04,  2.60491186e-04,\n",
      "        3.20652645e-04,  4.85583092e-04,  1.57507020e-04,  7.39308744e-05,\n",
      "        4.91468163e-05,  2.93090689e-05,  1.09568673e-05,  1.16151496e-05,\n",
      "        1.30301360e-05,  2.01323055e-05,  4.38315401e-05,  4.72161373e-05,\n",
      "        3.74782758e-05,  2.15513901e-05,  6.93712127e-06,  2.61139735e-06])]\n",
      "['calm']\n",
      "\n"
     ]
    },
    {
     "name": "stderr",
     "output_type": "stream",
     "text": [
      "/tmp/ipykernel_4787/3312442463.py:15: FutureWarning: Pass y=[0. 0. 0. ... 0. 0. 0.] as keyword args. From version 0.10 passing these as positional arguments will result in an error\n",
      "  mel=np.mean(librosa.feature.melspectrogram(X, sr=sample_rate).T,axis=0)\n"
     ]
    },
    {
     "name": "stdout",
     "output_type": "stream",
     "text": [
      "[array([-6.66761841e+02,  7.90703201e+01,  9.97878170e+00,  2.23466568e+01,\n",
      "        1.21350088e+01,  4.85466957e+00, -7.99741268e+00,  2.45991230e+00,\n",
      "        1.82035649e+00,  9.23905969e-01,  2.42280865e+00,  7.86191607e+00,\n",
      "       -2.73249793e+00,  4.12002993e+00,  2.11457634e+00, -2.67265111e-01,\n",
      "        4.08437395e+00,  1.38240069e-01, -1.58503819e+00,  1.62598097e+00,\n",
      "       -1.30634582e+00, -1.63895637e-01, -5.61414123e-01,  6.26430702e+00,\n",
      "        1.83221173e+00,  2.16145682e+00, -8.04534078e-01,  7.80783832e-01,\n",
      "        2.10783213e-01,  2.99311590e+00,  6.32907569e-01,  1.31445718e+00,\n",
      "       -3.07898402e+00, -1.39163122e-01,  2.82908231e-01,  1.16018248e+00,\n",
      "       -1.09771883e+00, -1.62363458e+00, -5.24756797e-02,  1.32033086e+00,\n",
      "        6.93610430e-01,  6.85017943e-01,  6.31618619e-01,  6.67239547e-01,\n",
      "        6.95460379e-01,  7.14036644e-01,  6.96256399e-01,  7.20292151e-01,\n",
      "        6.93862438e-01,  7.40324140e-01,  8.28104794e-01,  7.74887264e-01,\n",
      "        8.75060796e-04,  4.33249399e-04,  2.13515200e-03,  1.11612091e-02,\n",
      "        8.78012646e-03,  1.05730109e-02,  7.05125509e-03,  1.94709073e-03,\n",
      "        3.72337457e-03,  9.48102400e-03,  9.77902394e-03,  3.19772167e-03,\n",
      "        3.01411306e-03,  3.17716040e-03,  4.02983977e-03,  7.77547434e-03,\n",
      "        9.08323564e-03,  3.96984629e-03,  8.53934977e-03,  1.23131070e-02,\n",
      "        5.94866322e-03,  8.33550189e-03,  6.17160741e-03,  8.10568873e-03,\n",
      "        6.23226864e-03,  1.22257788e-02,  5.76754985e-03,  9.90672782e-03,\n",
      "        6.21652696e-03,  6.81603269e-04,  2.80460110e-03,  8.48015677e-03,\n",
      "        9.53049585e-03,  1.11917127e-03,  2.12909974e-04,  5.20784757e-04,\n",
      "        2.16833176e-03,  1.65463425e-03,  1.04493636e-03,  2.79796979e-04,\n",
      "        2.35743166e-04,  2.64427712e-04,  3.33778618e-04,  1.04379875e-03,\n",
      "        3.35359923e-03,  3.42137413e-03,  3.43602645e-04,  6.44609172e-05,\n",
      "        3.90015397e-04,  1.35724095e-03,  1.80720433e-03,  1.96738238e-03,\n",
      "        1.04592519e-03,  1.27112260e-03,  2.23704803e-04,  3.61295679e-04,\n",
      "        9.96073242e-04,  5.05886448e-04,  3.96000192e-04,  3.13315511e-04,\n",
      "        8.56226659e-04,  1.04075868e-03,  2.91004777e-04,  2.06983008e-04,\n",
      "        9.64139763e-04,  3.54481628e-04,  4.23229794e-04,  3.88008397e-04,\n",
      "        4.17962699e-04,  2.30023303e-04,  7.64261204e-05,  3.31191259e-04,\n",
      "        3.39646940e-04,  1.23931328e-04,  2.25937925e-04,  2.46461772e-04,\n",
      "        2.48564262e-04,  2.71824392e-04,  1.75779613e-04,  1.30994013e-04,\n",
      "        1.15218638e-04,  9.51797774e-05,  2.34341023e-05,  1.60162072e-05,\n",
      "        8.58245312e-06,  6.51759638e-06,  6.30614613e-06,  4.02053274e-06,\n",
      "        1.22103156e-05,  9.11450934e-06,  1.00699053e-05,  1.91591516e-05,\n",
      "        2.05101805e-05,  2.64621394e-05,  3.61871025e-05,  3.79828634e-05,\n",
      "        2.60098132e-05,  1.97168411e-05,  2.80743516e-05,  2.51375004e-05,\n",
      "        1.17151058e-05,  1.10138199e-05,  1.04777173e-05,  8.37088737e-06,\n",
      "        7.07155368e-06,  9.13856275e-06,  2.81432240e-05,  3.23277018e-05,\n",
      "        6.91780369e-05,  5.86241331e-05,  1.12808011e-04,  2.60491186e-04,\n",
      "        3.20652645e-04,  4.85583092e-04,  1.57507020e-04,  7.39308744e-05,\n",
      "        4.91468163e-05,  2.93090689e-05,  1.09568673e-05,  1.16151496e-05,\n",
      "        1.30301360e-05,  2.01323055e-05,  4.38315401e-05,  4.72161373e-05,\n",
      "        3.74782758e-05,  2.15513901e-05,  6.93712127e-06,  2.61139735e-06]), array([-6.75703125e+02,  7.34707947e+01,  1.97486413e+00,  1.94851513e+01,\n",
      "        4.77142525e+00, -4.24237490e+00, -9.75535679e+00,  1.09443772e+00,\n",
      "       -1.35039461e+00, -3.93866467e+00,  2.87735581e+00,  1.71077311e+00,\n",
      "       -4.98233175e+00,  3.41529489e+00, -4.08782673e+00,  2.15863258e-01,\n",
      "        9.70714390e-01, -6.88449204e-01, -4.68800211e+00, -2.02886748e+00,\n",
      "       -2.06489968e+00, -4.57493734e+00,  8.41787338e-01, -2.08037660e-01,\n",
      "        5.01436234e-01, -1.04262447e+00, -2.77037477e+00, -2.35223389e+00,\n",
      "       -9.91394162e-01,  1.95582032e+00, -1.03372085e+00, -2.84450507e+00,\n",
      "       -4.65531111e+00, -2.53375721e+00, -2.17142081e+00, -6.06798112e-01,\n",
      "       -1.74218023e+00, -3.75032640e+00, -2.69223309e+00, -5.39859593e-01,\n",
      "        6.62796021e-01,  6.35405660e-01,  6.27646685e-01,  5.98570287e-01,\n",
      "        6.26076043e-01,  5.73196828e-01,  5.80531359e-01,  6.63596332e-01,\n",
      "        7.02961802e-01,  6.62507296e-01,  6.40233219e-01,  6.62604868e-01,\n",
      "        3.97015392e-05,  2.34874860e-05,  3.69748846e-03,  1.54268304e-02,\n",
      "        4.53285826e-03,  1.10175163e-02,  5.04548056e-03,  2.29444634e-03,\n",
      "        2.81543680e-03,  2.21091416e-03,  6.83098147e-03,  1.47946775e-02,\n",
      "        7.26506673e-03,  1.66923832e-03,  1.05957850e-03,  3.61151178e-03,\n",
      "        1.71906985e-02,  1.53146153e-02,  2.94354726e-02,  9.30513348e-03,\n",
      "        4.36893059e-03,  8.11751187e-03,  7.09846057e-03,  6.07280666e-03,\n",
      "        4.40311804e-03,  2.75942800e-03,  9.58193559e-04,  1.18688056e-02,\n",
      "        2.71051936e-02,  9.52322129e-03,  8.22002126e-04,  2.28636689e-03,\n",
      "        3.02425493e-03,  9.23696253e-03,  1.29661104e-02,  9.24240239e-03,\n",
      "        1.61335885e-03,  8.68956195e-05,  5.70993107e-05,  2.07761681e-04,\n",
      "        2.15136271e-04,  1.88825783e-04,  1.63766192e-04,  8.33187776e-04,\n",
      "        4.75917943e-03,  5.61301038e-03,  2.51165195e-03,  7.93123676e-04,\n",
      "        8.49919961e-05,  5.36430336e-04,  1.07203831e-03,  1.28959387e-03,\n",
      "        4.69030550e-04,  3.37887177e-04,  4.05287457e-04,  8.95615667e-05,\n",
      "        1.26573912e-04,  1.61067073e-04,  1.79065377e-04,  1.38197167e-04,\n",
      "        2.26247779e-04,  2.41844595e-04,  2.76407023e-04,  2.24579315e-04,\n",
      "        2.34819090e-04,  1.94741879e-04,  3.03741981e-04,  1.69083476e-04,\n",
      "        1.08824956e-04,  1.75594614e-04,  2.12761792e-04,  1.25871185e-04,\n",
      "        1.16384523e-04,  1.10608569e-04,  9.66943335e-05,  1.66651866e-04,\n",
      "        1.96274254e-04,  1.67108999e-04,  3.76340409e-04,  2.34896099e-04,\n",
      "        7.74154978e-05,  8.29953424e-05,  3.23564054e-05,  2.89058644e-05,\n",
      "        2.05063152e-05,  1.57437753e-05,  7.08868401e-06,  4.09951735e-06,\n",
      "        4.43869476e-06,  4.52575341e-06,  3.20633126e-06,  8.27841450e-06,\n",
      "        1.36265044e-05,  1.77210932e-05,  2.27916735e-05,  2.15408036e-05,\n",
      "        8.67533618e-06,  1.09953244e-05,  1.06479129e-05,  1.85603112e-05,\n",
      "        1.85695899e-05,  1.46189896e-05,  1.65156234e-05,  2.94541223e-05,\n",
      "        1.82583371e-05,  1.15814073e-05,  1.74635534e-05,  7.70344923e-06,\n",
      "        8.68215557e-06,  4.20357492e-06,  5.03482715e-06,  3.27711950e-06,\n",
      "        4.01404805e-06,  4.89979311e-06,  1.45980011e-05,  1.30193321e-05,\n",
      "        1.93613560e-05,  1.80924580e-05,  1.48940971e-05,  1.08889626e-05,\n",
      "        3.61455318e-06,  1.74490197e-06,  1.32456285e-06,  2.64586038e-06,\n",
      "        3.02915009e-06,  4.37000517e-06,  3.66382119e-06,  1.56671956e-06])]\n",
      "['calm', 'calm']\n"
     ]
    }
   ],
   "source": [
    "x_train,x_test,y_train,y_test=load_data(test_size=0.25)"
   ]
  },
  {
   "cell_type": "code",
   "execution_count": 51,
   "metadata": {},
   "outputs": [
    {
     "data": {
      "image/png": "[encoded data removed]",
      "text/plain": [
       "<Figure size 432x288 with 1 Axes>"
      ]
     },
     "metadata": {
      "needs_background": "light"
     },
     "output_type": "display_data"
    }
   ],
   "source": [
    "import matplotlib.pyplot as mplt\n",
    "import seaborn as sbn\n",
    "\n",
    "mplt.title(\"Count of Emotions\", size=16)\n",
    "sbn.countplot(x=y_train)\n",
    "mplt.xlabel('Count',size = 12)\n",
    "mplt.ylabel('Emotions',size = 12)\n",
    "sbn.despine(top=True,right=True,left=False,bottom=False)"
   ]
  },
  {
   "cell_type": "code",
   "execution_count": 53,
   "metadata": {},
   "outputs": [],
   "source": [
    "def createwaveplt(data,sr,e):\n",
    "    mplt.figure(figsize=(10,3))\n",
    "    mplt.title('Waveplot for audio with () emotion'.format(e), size=15)\n",
    "    librosa.display_waveplot(data,sr=sr)\n",
    "    mplt.show()"
   ]
  },
  {
   "cell_type": "markdown",
   "metadata": {},
   "source": [
    "## DATASET Dimensions"
   ]
  },
  {
   "cell_type": "code",
   "execution_count": 6,
   "metadata": {},
   "outputs": [
    {
     "name": "stdout",
     "output_type": "stream",
     "text": [
      "(576, 192)\n"
     ]
    }
   ],
   "source": [
    "print((x_train.shape[0], x_test.shape[0]))"
   ]
  },
  {
   "cell_type": "markdown",
   "metadata": {},
   "source": [
    "## Get the number of features extracted"
   ]
  },
  {
   "cell_type": "code",
   "execution_count": 16,
   "metadata": {},
   "outputs": [
    {
     "name": "stdout",
     "output_type": "stream",
     "text": [
      "Features extracted: 180\n"
     ]
    }
   ],
   "source": [
    "\n",
    "print(f'Features extracted: {x_train.shape[1]}')"
   ]
  },
  {
   "cell_type": "markdown",
   "metadata": {},
   "source": [
    "## Initialize the Multi Layer Perceptron Classifier"
   ]
  },
  {
   "cell_type": "code",
   "execution_count": 17,
   "metadata": {},
   "outputs": [],
   "source": [
    "\n",
    "model=MLPClassifier(alpha=0.01, batch_size=256, epsilon=1e-08, hidden_layer_sizes=(300,), learning_rate='adaptive', max_iter=500)"
   ]
  },
  {
   "cell_type": "markdown",
   "metadata": {},
   "source": [
    "## Train the model"
   ]
  },
  {
   "cell_type": "code",
   "execution_count": 9,
   "metadata": {},
   "outputs": [
    {
     "data": {
      "text/plain": [
       "MLPClassifier(alpha=0.01, batch_size=256, hidden_layer_sizes=(300,),\n",
       "              learning_rate='adaptive', max_iter=500)"
      ]
     },
     "execution_count": 9,
     "metadata": {},
     "output_type": "execute_result"
    }
   ],
   "source": [
    "\n",
    "model.fit(x_train,y_train)"
   ]
  },
  {
   "cell_type": "markdown",
   "metadata": {},
   "source": [
    "## Predict for the test set"
   ]
  },
  {
   "cell_type": "code",
   "execution_count": null,
   "metadata": {},
   "outputs": [],
   "source": [
    "\n",
    "y_pred=model.predict(x_test)"
   ]
  },
  {
   "cell_type": "markdown",
   "metadata": {},
   "source": [
    "## Calculate the accuracy of our model"
   ]
  },
  {
   "cell_type": "code",
   "execution_count": 11,
   "metadata": {},
   "outputs": [
    {
     "name": "stdout",
     "output_type": "stream",
     "text": [
      "Accuracy: 65.62%\n"
     ]
    }
   ],
   "source": [
    "accuracy=accuracy_score(y_true=y_test, y_pred=y_pred)\n",
    "print(\"Accuracy: {:.2f}%\".format(accuracy*100))"
   ]
  },
  {
   "cell_type": "code",
   "execution_count": 32,
   "metadata": {},
   "outputs": [
    {
     "data": {
      "text/plain": [
       "array([-4.95644043e+02,  3.97769356e+01, -4.12729502e+00, -1.97449112e+00,\n",
       "       -4.54384279e+00, -6.83164120e+00, -2.12619820e+01, -1.05822439e+01,\n",
       "       -8.26089478e+00, -5.67265701e+00, -8.64184284e+00, -6.25973034e+00,\n",
       "       -9.26407146e+00, -1.98956347e+00, -5.35249949e+00, -6.02671957e+00,\n",
       "       -3.41138005e+00, -4.10156488e+00, -6.02799940e+00, -4.22197390e+00,\n",
       "       -3.69840264e+00, -5.06794071e+00, -3.61624265e+00, -2.78097582e+00,\n",
       "       -3.19974613e+00,  4.09083188e-01,  6.72381341e-01,  2.20401669e+00,\n",
       "        7.05427289e-01,  4.31941360e-01, -8.01847219e-01,  1.65409005e+00,\n",
       "        2.53967810e+00,  5.30073822e-01, -6.04833782e-01, -9.53970134e-01,\n",
       "       -6.36675119e-01,  2.11421132e+00,  1.76953936e+00,  5.73146641e-01,\n",
       "        5.91688514e-01,  6.26818359e-01,  6.38921976e-01,  6.76621854e-01,\n",
       "        7.11426795e-01,  7.09640980e-01,  7.48476863e-01,  7.71825254e-01,\n",
       "        7.61754572e-01,  7.47252226e-01,  7.33365476e-01,  5.93863189e-01,\n",
       "        6.44127658e-06,  4.05897263e-05,  1.91940664e-04,  4.21318633e-04,\n",
       "        2.81181908e-03,  6.36716560e-02,  2.29000539e-01,  2.66501158e-01,\n",
       "        5.48094451e-01,  5.53924680e-01,  2.53898561e-01,  3.16889107e-01,\n",
       "        2.62365073e-01,  1.60589144e-01,  6.09111935e-02,  3.03278774e-01,\n",
       "        7.64416337e-01,  1.16880405e+00,  8.71866882e-01,  1.58384466e+00,\n",
       "        1.98175561e+00,  1.67308584e-01,  9.80545506e-02,  1.23992547e-01,\n",
       "        1.31894678e-01,  1.36142343e-01,  9.91779417e-02,  8.64881426e-02,\n",
       "        1.57054484e-01,  1.93158060e-01,  1.45549461e-01,  4.11957800e-02,\n",
       "        2.60221194e-02,  1.39509868e-02,  1.22408560e-02,  6.40017819e-03,\n",
       "        5.28409937e-03,  7.17296591e-03,  1.13497842e-02,  1.15811164e-02,\n",
       "        2.66753007e-02,  1.67494491e-02,  5.48167108e-03,  6.43632142e-03,\n",
       "        1.15674641e-02,  2.21240837e-02,  2.69682147e-02,  6.59781098e-02,\n",
       "        6.33546039e-02,  4.86406721e-02,  3.30399200e-02,  8.57691560e-03,\n",
       "        4.60308651e-03,  6.43844577e-03,  1.03491368e-02,  1.92766953e-02,\n",
       "        2.87647210e-02,  2.95030642e-02,  1.91132557e-02,  9.16462392e-03,\n",
       "        1.03769852e-02,  9.20500327e-03,  6.96264300e-03,  1.50575936e-02,\n",
       "        9.86866653e-03,  7.06617814e-03,  9.46868584e-03,  1.55568561e-02,\n",
       "        7.38952029e-03,  9.44520161e-03,  7.60476943e-03,  3.97661142e-03,\n",
       "        7.02757249e-03,  5.98148210e-03,  4.89508174e-03,  4.27378574e-03,\n",
       "        5.94891608e-03,  4.21125256e-03,  3.14620323e-03,  3.49146058e-03,\n",
       "        3.83830816e-03,  2.87293992e-03,  1.30789995e-03,  7.81320443e-04,\n",
       "        3.14144709e-04,  1.81388619e-04,  3.19975283e-04,  5.10477112e-04,\n",
       "        6.55226584e-04,  9.65996936e-04,  1.07727794e-03,  9.23965301e-04,\n",
       "        7.71161285e-04,  1.55990210e-03,  1.26105419e-03,  2.58313934e-03,\n",
       "        1.44559774e-03,  2.15455052e-03,  3.72198294e-03,  2.81046052e-03,\n",
       "        2.26559374e-03,  2.03898712e-03,  2.44435226e-03,  1.88592356e-03,\n",
       "        1.30892219e-03,  8.06244323e-04,  1.05668767e-03,  8.14172905e-04,\n",
       "        1.05761155e-03,  1.22185424e-03,  1.37738301e-03,  1.10379013e-03,\n",
       "        1.39136496e-03,  1.58322160e-03,  1.41498924e-03,  1.65605545e-03,\n",
       "        1.49102986e-03,  1.32984121e-03,  9.91326524e-04,  1.26065942e-03,\n",
       "        1.30373263e-03,  2.38404190e-03,  2.20396952e-03,  2.53197155e-03,\n",
       "        2.58208835e-03,  2.48890836e-03,  1.93386094e-03,  1.24336418e-03])"
      ]
     },
     "execution_count": 32,
     "metadata": {},
     "output_type": "execute_result"
    }
   ],
   "source": [
    "x_train[0]"
   ]
  },
  {
   "cell_type": "code",
   "execution_count": null,
   "metadata": {},
   "outputs": [],
   "source": []
  },
  {
   "cell_type": "code",
   "execution_count": null,
   "metadata": {},
   "outputs": [],
   "source": []
  }
 ],
 "metadata": {
  "kernelspec": {
   "display_name": "Python 3",
   "language": "python",
   "name": "python3"
  },
  "language_info": {
   "codemirror_mode": {
    "name": "ipython",
    "version": 3
   },
   "file_extension": ".py",
   "mimetype": "text/x-python",
   "name": "python",
   "nbconvert_exporter": "python",
   "pygments_lexer": "ipython3",
   "version": "3.8.3"
  }
 },
 "nbformat": 4,
 "nbformat_minor": 5
}
